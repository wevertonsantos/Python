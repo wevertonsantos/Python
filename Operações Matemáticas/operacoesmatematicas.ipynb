{
 "cells": [
  {
   "cell_type": "code",
   "execution_count": 3,
   "metadata": {},
   "outputs": [
    {
     "name": "stdout",
     "output_type": "stream",
     "text": [
      "2\n",
      "1\n",
      "6\n",
      "2.0\n",
      "8\n",
      "1\n"
     ]
    }
   ],
   "source": [
    "print(1+1)\n",
    "print(2-1)\n",
    "print(2*3)\n",
    "print(2/1)\n",
    "print(2**3)\n",
    "print(7%3)"
   ]
  },
  {
   "cell_type": "markdown",
   "metadata": {},
   "source": [
    "print(7%3) = vai mostrar o resto da divisão de 7 por 3"
   ]
  }
 ],
 "metadata": {
  "kernelspec": {
   "display_name": "Python 3",
   "language": "python",
   "name": "python3"
  },
  "language_info": {
   "codemirror_mode": {
    "name": "ipython",
    "version": 3
   },
   "file_extension": ".py",
   "mimetype": "text/x-python",
   "name": "python",
   "nbconvert_exporter": "python",
   "pygments_lexer": "ipython3",
   "version": "3.12.0"
  }
 },
 "nbformat": 4,
 "nbformat_minor": 2
}
