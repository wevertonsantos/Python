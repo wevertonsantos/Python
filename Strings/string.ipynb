{
 "cells": [
  {
   "cell_type": "code",
   "execution_count": 5,
   "metadata": {},
   "outputs": [
    {
     "name": "stdout",
     "output_type": "stream",
     "text": [
      "Meu nome é Weverton\n",
      "Meu nome é Weverton\n",
      "False\n",
      "True\n"
     ]
    }
   ],
   "source": [
    "print('Meu nome é Weverton')\n",
    "print('Meu nome é ' + 'Weverton')\n",
    "print('Meu nome é ' in 'Weverton')\n",
    "print('We' in 'Weverton')"
   ]
  },
  {
   "cell_type": "markdown",
   "metadata": {},
   "source": [
    "print('Meu nome é ' in 'Weverton') = in: verifica se um texto está contido em outro texto {case sensitive}"
   ]
  }
 ],
 "metadata": {
  "kernelspec": {
   "display_name": "Python 3",
   "language": "python",
   "name": "python3"
  },
  "language_info": {
   "codemirror_mode": {
    "name": "ipython",
    "version": 3
   },
   "file_extension": ".py",
   "mimetype": "text/x-python",
   "name": "python",
   "nbconvert_exporter": "python",
   "pygments_lexer": "ipython3",
   "version": "3.12.0"
  }
 },
 "nbformat": 4,
 "nbformat_minor": 2
}
